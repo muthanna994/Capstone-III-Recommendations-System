{
 "cells": [
  {
   "cell_type": "markdown",
   "id": "d73097e0",
   "metadata": {},
   "source": [
    "# Capstone Three Data Pre-Processing and Modeling\n",
    "\n",
    "Building a recommendation system involves transforming raw user data into personalized suggestions that enhance user experience. The first step,\n",
    "\n",
    "#### data pre-processing:\n",
    "\n",
    "cleans and organizes data by handling missing values, normalizing user interactions, and encoding preferences. Once the data is prepped.\n",
    "\n",
    "#### modeling:\n",
    "\n",
    "employs algorithms like collaborative filtering or matrix factorization to identify patterns and predict user preferences. This process ensures that the recommendation system is accurate, efficient, and capable of delivering relevant recommendations to users."
   ]
  },
  {
   "cell_type": "markdown",
   "id": "f40d8c92",
   "metadata": {},
   "source": [
    "## import libraries"
   ]
  },
  {
   "cell_type": "code",
   "execution_count": 1,
   "id": "847c2e7a",
   "metadata": {},
   "outputs": [
    {
     "name": "stderr",
     "output_type": "stream",
     "text": [
      "C:\\Users\\mutha\\anaconda3\\Lib\\site-packages\\pandas\\core\\arrays\\masked.py:60: UserWarning: Pandas requires version '1.3.6' or newer of 'bottleneck' (version '1.3.5' currently installed).\n",
      "  from pandas.core import (\n"
     ]
    }
   ],
   "source": [
    "import pandas as pd\n",
    "import numpy as np\n",
    "import matplotlib.pyplot as plt\n",
    "import seaborn as sns\n",
    "from sklearn.feature_extraction.text import TfidfVectorizer\n",
    "from sklearn.model_selection import train_test_split\n",
    "from sklearn.preprocessing import StandardScaler\n",
    "from sklearn.preprocessing import LabelEncoder\n",
    "import tensorflow as tf\n",
    "from tensorflow import keras\n",
    "from keras.models import Model\n",
    "from keras.layers import Input, Embedding, Flatten, Dense, Concatenate, Dropout\n",
    "import keras_tuner as kt"
   ]
  },
  {
   "cell_type": "markdown",
   "id": "56ab3f99",
   "metadata": {},
   "source": [
    "## Data loading"
   ]
  },
  {
   "cell_type": "code",
   "execution_count": 2,
   "id": "91989841",
   "metadata": {},
   "outputs": [
    {
     "data": {
      "text/html": [
       "<div>\n",
       "<style scoped>\n",
       "    .dataframe tbody tr th:only-of-type {\n",
       "        vertical-align: middle;\n",
       "    }\n",
       "\n",
       "    .dataframe tbody tr th {\n",
       "        vertical-align: top;\n",
       "    }\n",
       "\n",
       "    .dataframe thead th {\n",
       "        text-align: right;\n",
       "    }\n",
       "</style>\n",
       "<table border=\"1\" class=\"dataframe\">\n",
       "  <thead>\n",
       "    <tr style=\"text-align: right;\">\n",
       "      <th></th>\n",
       "      <th>movieId</th>\n",
       "      <th>title</th>\n",
       "      <th>genres</th>\n",
       "      <th>userId</th>\n",
       "      <th>rating</th>\n",
       "      <th>tag</th>\n",
       "      <th>year</th>\n",
       "      <th>month</th>\n",
       "      <th>day</th>\n",
       "    </tr>\n",
       "  </thead>\n",
       "  <tbody>\n",
       "    <tr>\n",
       "      <th>0</th>\n",
       "      <td>1</td>\n",
       "      <td>Toy Story (1995)</td>\n",
       "      <td>Adventure|Animation|Children|Comedy|Fantasy</td>\n",
       "      <td>1</td>\n",
       "      <td>4.0</td>\n",
       "      <td>pixar</td>\n",
       "      <td>2000</td>\n",
       "      <td>7</td>\n",
       "      <td>30</td>\n",
       "    </tr>\n",
       "    <tr>\n",
       "      <th>1</th>\n",
       "      <td>1</td>\n",
       "      <td>Toy Story (1995)</td>\n",
       "      <td>Adventure|Animation|Children|Comedy|Fantasy</td>\n",
       "      <td>1</td>\n",
       "      <td>4.0</td>\n",
       "      <td>pixar</td>\n",
       "      <td>2000</td>\n",
       "      <td>7</td>\n",
       "      <td>30</td>\n",
       "    </tr>\n",
       "    <tr>\n",
       "      <th>2</th>\n",
       "      <td>1</td>\n",
       "      <td>Toy Story (1995)</td>\n",
       "      <td>Adventure|Animation|Children|Comedy|Fantasy</td>\n",
       "      <td>1</td>\n",
       "      <td>4.0</td>\n",
       "      <td>fun</td>\n",
       "      <td>2000</td>\n",
       "      <td>7</td>\n",
       "      <td>30</td>\n",
       "    </tr>\n",
       "    <tr>\n",
       "      <th>3</th>\n",
       "      <td>1</td>\n",
       "      <td>Toy Story (1995)</td>\n",
       "      <td>Adventure|Animation|Children|Comedy|Fantasy</td>\n",
       "      <td>5</td>\n",
       "      <td>4.0</td>\n",
       "      <td>pixar</td>\n",
       "      <td>1996</td>\n",
       "      <td>11</td>\n",
       "      <td>8</td>\n",
       "    </tr>\n",
       "    <tr>\n",
       "      <th>4</th>\n",
       "      <td>1</td>\n",
       "      <td>Toy Story (1995)</td>\n",
       "      <td>Adventure|Animation|Children|Comedy|Fantasy</td>\n",
       "      <td>5</td>\n",
       "      <td>4.0</td>\n",
       "      <td>pixar</td>\n",
       "      <td>1996</td>\n",
       "      <td>11</td>\n",
       "      <td>8</td>\n",
       "    </tr>\n",
       "  </tbody>\n",
       "</table>\n",
       "</div>"
      ],
      "text/plain": [
       "   movieId             title                                       genres  \\\n",
       "0        1  Toy Story (1995)  Adventure|Animation|Children|Comedy|Fantasy   \n",
       "1        1  Toy Story (1995)  Adventure|Animation|Children|Comedy|Fantasy   \n",
       "2        1  Toy Story (1995)  Adventure|Animation|Children|Comedy|Fantasy   \n",
       "3        1  Toy Story (1995)  Adventure|Animation|Children|Comedy|Fantasy   \n",
       "4        1  Toy Story (1995)  Adventure|Animation|Children|Comedy|Fantasy   \n",
       "\n",
       "   userId  rating    tag  year  month  day  \n",
       "0       1     4.0  pixar  2000      7   30  \n",
       "1       1     4.0  pixar  2000      7   30  \n",
       "2       1     4.0    fun  2000      7   30  \n",
       "3       5     4.0  pixar  1996     11    8  \n",
       "4       5     4.0  pixar  1996     11    8  "
      ]
     },
     "execution_count": 2,
     "metadata": {},
     "output_type": "execute_result"
    }
   ],
   "source": [
    "df = pd.read_csv('data_wrangling_EDA.csv')\n",
    "df.head()"
   ]
  },
  {
   "cell_type": "code",
   "execution_count": 3,
   "id": "5774dba4",
   "metadata": {},
   "outputs": [
    {
     "name": "stdout",
     "output_type": "stream",
     "text": [
      "<class 'pandas.core.frame.DataFrame'>\n",
      "RangeIndex: 233213 entries, 0 to 233212\n",
      "Data columns (total 9 columns):\n",
      " #   Column   Non-Null Count   Dtype  \n",
      "---  ------   --------------   -----  \n",
      " 0   movieId  233213 non-null  int64  \n",
      " 1   title    233213 non-null  object \n",
      " 2   genres   233213 non-null  object \n",
      " 3   userId   233213 non-null  int64  \n",
      " 4   rating   233213 non-null  float64\n",
      " 5   tag      233213 non-null  object \n",
      " 6   year     233213 non-null  int64  \n",
      " 7   month    233213 non-null  int64  \n",
      " 8   day      233213 non-null  int64  \n",
      "dtypes: float64(1), int64(5), object(3)\n",
      "memory usage: 16.0+ MB\n"
     ]
    }
   ],
   "source": [
    "df.info()"
   ]
  },
  {
   "cell_type": "markdown",
   "id": "0ea216f6",
   "metadata": {},
   "source": [
    "## Data Pre-Processing"
   ]
  },
  {
   "cell_type": "code",
   "execution_count": 4,
   "id": "83b0ffe8",
   "metadata": {},
   "outputs": [],
   "source": [
    "# Fill NaN values in tags with empty string\n",
    "df['tag'] = df['tag'].fillna('')\n",
    "\n",
    "# Encode userId and movieId\n",
    "user_encoder = LabelEncoder()\n",
    "movie_encoder = LabelEncoder()\n",
    "\n",
    "df['userId'] = user_encoder.fit_transform(df['userId'])\n",
    "df['movieId'] = movie_encoder.fit_transform(df['movieId'])"
   ]
  },
  {
   "cell_type": "code",
   "execution_count": 5,
   "id": "1c0e036e",
   "metadata": {},
   "outputs": [],
   "source": [
    "# Assigning the veriables X and y\n",
    "X = df.drop(columns=['rating'])\n",
    "y = df['rating']\n",
    "# Split the data into 0.8 training and 0.2 testing\n",
    "X_train, X_test, y_train, y_test = train_test_split(X, y, test_size=0.2, random_state=42)\n"
   ]
  },
  {
   "cell_type": "markdown",
   "id": "ee400904",
   "metadata": {},
   "source": [
    "#### TF-IDF (Term Frequency-Inverse Document Frequency):\n",
    "which converts textual data into numerical vectors that can be used for machine learning models. We specifically vectorize the 'tag' and 'title' columns from the training and testing datasets.\n",
    "\n",
    "By converting the textual data into TF-IDF vectors, we prepare the 'tag' and 'title' columns for use in machine learning models, ensuring that the text data is effectively utilized in numerical form."
   ]
  },
  {
   "cell_type": "code",
   "execution_count": 6,
   "id": "a5c4e779",
   "metadata": {},
   "outputs": [],
   "source": [
    "# TF-IDF vectorization for 'tag' and 'title'\n",
    "vectorizer = TfidfVectorizer(max_features=5000)  # Limiting features to avoid memory issues\n",
    "\n",
    "# Fit the vectorizer to the tags and titles\n",
    "vectorizer.fit(pd.concat([X_train['tag'], X_train['title']]))\n",
    "\n",
    "# Transform tags and titles into TF-IDF vectors\n",
    "tfidf_tags_train = vectorizer.transform(X_train['tag'])\n",
    "tfidf_titles_train = vectorizer.transform(X_train['title'])\n",
    "tfidf_tags_test = vectorizer.transform(X_test['tag'])\n",
    "tfidf_titles_test = vectorizer.transform(X_test['title'])\n",
    "\n",
    "# Drop original 'tag' and 'title' columns\n",
    "X_train = X_train.drop(columns=['tag', 'title'])\n",
    "X_test = X_test.drop(columns=['tag', 'title'])\n"
   ]
  },
  {
   "cell_type": "markdown",
   "id": "f6dca8d1",
   "metadata": {},
   "source": [
    "#### Neural Collaborative Filtering (NCF) Model with TF-IDF Features\n",
    "This section of the code defines and compiles a Neural Collaborative Filtering (NCF) model that incorporates both user and movie embeddings, as well as TF-IDF vectors for tags and titles."
   ]
  },
  {
   "cell_type": "code",
   "execution_count": 7,
   "id": "9c6483a9",
   "metadata": {},
   "outputs": [],
   "source": [
    "import tensorflow as tf\n",
    "from tensorflow.keras.models import Model\n",
    "from tensorflow.keras.layers import Input, Embedding, Flatten, Concatenate, Dense, Dropout\n",
    "\n",
    "# Define the number of unique users and movies\n",
    "num_users = df['userId'].nunique()\n",
    "num_movies = df['movieId'].nunique()\n",
    "\n",
    "# Define the NCF model with sparse inputs\n",
    "def NCF_model(num_users, num_movies, tfidf_dim, embedding_dim=50):\n",
    "    # Separate input layers are created for users, movies, tags, and titles.\n",
    "    # The tag and title inputs are marked as sparse to avoid memory issues.\n",
    "    user_input = Input(shape=(1,), name='user_input')\n",
    "    movie_input = Input(shape=(1,), name='movie_input')\n",
    "    tag_input = Input(shape=(tfidf_dim,), name='tag_input', sparse=True)\n",
    "    title_input = Input(shape=(tfidf_dim,), name='title_input', sparse=True)\n",
    "\n",
    "    # Embedding layers are defined for users and movies, converting their IDs into dense vectors of a specified dimension (embedding_dim).\n",
    "    user_embedding = Embedding(input_dim=num_users, output_dim=embedding_dim, name='user_embedding')(user_input)\n",
    "    movie_embedding = Embedding(input_dim=num_movies, output_dim=embedding_dim, name='movie_embedding')(movie_input)\n",
    "\n",
    "    # The embedding vectors are flattened to 1D.\n",
    "    user_vector = Flatten()(user_embedding)\n",
    "    movie_vector = Flatten()(movie_embedding)\n",
    "\n",
    "    # The user and movie vectors are concatenated with the TF-IDF vectors for tags and titles.\n",
    "    concat = Concatenate()([user_vector, movie_vector, tag_input, title_input])\n",
    "\n",
    "    # Two dense layers with relu activation and dropout layers are added for regularization.\n",
    "    fc1 = Dense(128, activation='relu')(concat)\n",
    "    dropout1 = Dropout(0.5)(fc1)\n",
    "    fc2 = Dense(64, activation='relu')(dropout1)\n",
    "    dropout2 = Dropout(0.5)(fc2)\n",
    "    output = Dense(1)(dropout2)  # Regression output\n",
    "\n",
    "    # Define the model\n",
    "    model = Model(inputs=[user_input, movie_input, tag_input, title_input], outputs=output)\n",
    "    return model\n",
    "\n",
    "# The NCF model is instantiated with the calculated TF-IDF dimension.\n",
    "tfidf_dim = tfidf_tags_train.shape[1]  # Get the dimension of TF-IDF vectors\n",
    "ncf_model = NCF_model(num_users, num_movies, tfidf_dim)\n",
    "\n",
    "# The model is compiled with the Adam optimizer and mean squared error loss function.\n",
    "ncf_model.compile(optimizer='adam', loss='mean_squared_error')\n"
   ]
  },
  {
   "cell_type": "code",
   "execution_count": 8,
   "id": "0237dd6e",
   "metadata": {},
   "outputs": [
    {
     "name": "stdout",
     "output_type": "stream",
     "text": [
      "Epoch 1/10\n",
      "\u001b[1m729/729\u001b[0m \u001b[32m━━━━━━━━━━━━━━━━━━━━\u001b[0m\u001b[37m\u001b[0m \u001b[1m23s\u001b[0m 26ms/step - loss: 3.0653 - val_loss: 0.5535\n",
      "Epoch 2/10\n",
      "\u001b[1m729/729\u001b[0m \u001b[32m━━━━━━━━━━━━━━━━━━━━\u001b[0m\u001b[37m\u001b[0m \u001b[1m19s\u001b[0m 25ms/step - loss: 1.0071 - val_loss: 0.5315\n",
      "Epoch 3/10\n",
      "\u001b[1m729/729\u001b[0m \u001b[32m━━━━━━━━━━━━━━━━━━━━\u001b[0m\u001b[37m\u001b[0m \u001b[1m19s\u001b[0m 26ms/step - loss: 0.8740 - val_loss: 0.5016\n",
      "Epoch 4/10\n",
      "\u001b[1m729/729\u001b[0m \u001b[32m━━━━━━━━━━━━━━━━━━━━\u001b[0m\u001b[37m\u001b[0m \u001b[1m18s\u001b[0m 24ms/step - loss: 0.7838 - val_loss: 0.4855\n",
      "Epoch 5/10\n",
      "\u001b[1m729/729\u001b[0m \u001b[32m━━━━━━━━━━━━━━━━━━━━\u001b[0m\u001b[37m\u001b[0m \u001b[1m19s\u001b[0m 25ms/step - loss: 0.7012 - val_loss: 0.4506\n",
      "Epoch 6/10\n",
      "\u001b[1m729/729\u001b[0m \u001b[32m━━━━━━━━━━━━━━━━━━━━\u001b[0m\u001b[37m\u001b[0m \u001b[1m19s\u001b[0m 25ms/step - loss: 0.6246 - val_loss: 0.4299\n",
      "Epoch 7/10\n",
      "\u001b[1m729/729\u001b[0m \u001b[32m━━━━━━━━━━━━━━━━━━━━\u001b[0m\u001b[37m\u001b[0m \u001b[1m19s\u001b[0m 25ms/step - loss: 0.5522 - val_loss: 0.4015\n",
      "Epoch 8/10\n",
      "\u001b[1m729/729\u001b[0m \u001b[32m━━━━━━━━━━━━━━━━━━━━\u001b[0m\u001b[37m\u001b[0m \u001b[1m18s\u001b[0m 25ms/step - loss: 0.4849 - val_loss: 0.3734\n",
      "Epoch 9/10\n",
      "\u001b[1m729/729\u001b[0m \u001b[32m━━━━━━━━━━━━━━━━━━━━\u001b[0m\u001b[37m\u001b[0m \u001b[1m21s\u001b[0m 25ms/step - loss: 0.4317 - val_loss: 0.3601\n",
      "Epoch 10/10\n",
      "\u001b[1m729/729\u001b[0m \u001b[32m━━━━━━━━━━━━━━━━━━━━\u001b[0m\u001b[37m\u001b[0m \u001b[1m18s\u001b[0m 25ms/step - loss: 0.3913 - val_loss: 0.3361\n"
     ]
    },
    {
     "data": {
      "image/png": "[encoded data removed]",
      "text/plain": [
       "<Figure size 640x480 with 1 Axes>"
      ]
     },
     "metadata": {},
     "output_type": "display_data"
    },
    {
     "name": "stdout",
     "output_type": "stream",
     "text": [
      "\u001b[1m1458/1458\u001b[0m \u001b[32m━━━━━━━━━━━━━━━━━━━━\u001b[0m\u001b[37m\u001b[0m \u001b[1m7s\u001b[0m 4ms/step - loss: 0.3388\n",
      "Test Loss: 0.3361315131187439\n"
     ]
    }
   ],
   "source": [
    "# Prepare input data for the model\n",
    "X_train_user = X_train['userId'].values\n",
    "X_train_movie = X_train['movieId'].values\n",
    "X_test_user = X_test['userId'].values\n",
    "X_test_movie = X_test['movieId'].values\n",
    "\n",
    "# Train the model\n",
    "history = ncf_model.fit([X_train_user, X_train_movie, tfidf_tags_train, tfidf_titles_train], y_train, epochs=10, batch_size=256, validation_data=([X_test_user, X_test_movie, tfidf_tags_test, tfidf_titles_test], y_test))\n",
    "\n",
    "# Plot training history\n",
    "plt.plot(history.history['loss'], label='Train Loss')\n",
    "plt.plot(history.history['val_loss'], label='Validation Loss')\n",
    "plt.legend()\n",
    "plt.show()\n",
    "\n",
    "# Evaluate the model on the test data\n",
    "test_loss = ncf_model.evaluate([X_test_user, X_test_movie, tfidf_tags_test, tfidf_titles_test], y_test)\n",
    "print(f'Test Loss: {test_loss}')\n"
   ]
  },
  {
   "cell_type": "markdown",
   "id": "9e46104e",
   "metadata": {},
   "source": [
    "###### The NCF model was successfully trained on the data, achieving a test loss of 0.35. The next step is to enhance the model's performance by finding the optimal hyperparameters. This involves systematically exploring different combinations of hyperparameters and selecting the ones that yield the best results. Once identified, these optimal hyperparameters will be applied to the model to improve its performance.\n",
    "\n",
    "\n",
    "\n",
    "\n",
    "## Model Creation Function for NCF with Hyperparameters:\n",
    "\n",
    "The function create_model defines and compiles a Neural Collaborative Filtering (NCF) model with specified hyperparameters. This model integrates user and movie embeddings with TF-IDF features for tags and titles."
   ]
  },
  {
   "cell_type": "code",
   "execution_count": 9,
   "id": "74f1ccc7",
   "metadata": {},
   "outputs": [],
   "source": [
    "from sklearn.metrics import mean_squared_error\n",
    "\n",
    "def create_model(embedding_dim=32, dense_units=128, dropout_rate=0.3):\n",
    "    num_users = 610 \n",
    "    num_movies = 9724\n",
    "    tfidf_dim = tfidf_tags_train.shape[1]  # Adjust based on your TF-IDF vector size\n",
    "\n",
    "    # User and Movie Input Layers\n",
    "    user_input = Input(shape=(1,), name='user_input')\n",
    "    movie_input = Input(shape=(1,), name='movie_input')\n",
    "\n",
    "    # TF-IDF Input Layers (Sparse)\n",
    "    tag_input = Input(shape=(tfidf_dim,), sparse=True, name='tag_input', dtype='float32')\n",
    "    title_input = Input(shape=(tfidf_dim,), sparse=True, name='title_input', dtype='float32')\n",
    "\n",
    "    # Embedding Layers\n",
    "    user_embedding = Embedding(input_dim=num_users, output_dim=embedding_dim)(user_input)\n",
    "    movie_embedding = Embedding(input_dim=num_movies, output_dim=embedding_dim)(movie_input)\n",
    "\n",
    "    # Flatten Embeddings\n",
    "    user_flat = Flatten()(user_embedding)\n",
    "    movie_flat = Flatten()(movie_embedding)\n",
    "\n",
    "    # Concatenate All Inputs\n",
    "    concat = Concatenate()([user_flat, movie_flat, tag_input, title_input])\n",
    "\n",
    "    # Dense Layers\n",
    "    dense_1 = Dense(units=dense_units, activation='relu')(concat)\n",
    "    dropout = Dropout(rate=dropout_rate)(dense_1)\n",
    "    output = Dense(1)(dropout)\n",
    "\n",
    "    model = Model(inputs=[user_input, movie_input, tag_input, title_input], outputs=output)\n",
    "    model.compile(optimizer='adam', loss='mean_squared_error')\n",
    "\n",
    "    return model"
   ]
  },
  {
   "cell_type": "markdown",
   "id": "f6bb950e",
   "metadata": {},
   "source": [
    "#### Input Parameters:\n",
    "###### The function takes three hyperparameters:\n",
    "embedding_dim: Size of the embedding vectors for users and movies.\n",
    "dense_units: Number of units in the dense (fully connected) layer.\n",
    "dropout_rate: Dropout rate for the dropout layer to prevent overfitting.\n",
    "Number of Users and Movies:\n",
    "\n",
    "num_users: Set to 610, representing the number of unique users.\n",
    "num_movies: Set to 9724\n",
    "\n",
    "\n",
    "## Hyperparameter Tuning:\n",
    "\n",
    "After successfully training the NCF model with a test loss of 0.35, the next step is to improve the model's performance by tuning its hyperparameters. Hyperparameter tuning involves experimenting with different configurations to find the best combination that maximizes the model's performance. Here are the hyperparameters defined for tuning:"
   ]
  },
  {
   "cell_type": "code",
   "execution_count": 10,
   "id": "781c4aab",
   "metadata": {},
   "outputs": [],
   "source": [
    "hyperparameters = {\n",
    "    'embedding_dim': [16, 32],\n",
    "    'dense_units': [64, 128],\n",
    "    'dropout_rate': [0.2, 0.3],\n",
    "    'epochs': 10,\n",
    "    'batch_size': 32\n",
    "}"
   ]
  },
  {
   "cell_type": "markdown",
   "id": "7091daaa",
   "metadata": {},
   "source": [
    "#### Hyperparameter Tuning Process\n",
    "The following steps outline the process of hyperparameter tuning for improving the Neural Collaborative Filtering (NCF) model's performance:"
   ]
  },
  {
   "cell_type": "code",
   "execution_count": 11,
   "id": "75f61034",
   "metadata": {
    "scrolled": true
   },
   "outputs": [
    {
     "name": "stdout",
     "output_type": "stream",
     "text": [
      "Epoch 1/10\n",
      "\u001b[1m5831/5831\u001b[0m \u001b[32m━━━━━━━━━━━━━━━━━━━━\u001b[0m\u001b[37m\u001b[0m \u001b[1m53s\u001b[0m 8ms/step - loss: 1.6628 - val_loss: 0.5146\n",
      "Epoch 2/10\n",
      "\u001b[1m5831/5831\u001b[0m \u001b[32m━━━━━━━━━━━━━━━━━━━━\u001b[0m\u001b[37m\u001b[0m \u001b[1m50s\u001b[0m 8ms/step - loss: 0.5741 - val_loss: 0.4737\n",
      "Epoch 3/10\n",
      "\u001b[1m5831/5831\u001b[0m \u001b[32m━━━━━━━━━━━━━━━━━━━━\u001b[0m\u001b[37m\u001b[0m \u001b[1m50s\u001b[0m 8ms/step - loss: 0.5062 - val_loss: 0.4488\n",
      "Epoch 4/10\n",
      "\u001b[1m5831/5831\u001b[0m \u001b[32m━━━━━━━━━━━━━━━━━━━━\u001b[0m\u001b[37m\u001b[0m \u001b[1m48s\u001b[0m 8ms/step - loss: 0.4559 - val_loss: 0.4090\n",
      "Epoch 5/10\n",
      "\u001b[1m5831/5831\u001b[0m \u001b[32m━━━━━━━━━━━━━━━━━━━━\u001b[0m\u001b[37m\u001b[0m \u001b[1m50s\u001b[0m 8ms/step - loss: 0.4125 - val_loss: 0.3814\n",
      "Epoch 6/10\n",
      "\u001b[1m5831/5831\u001b[0m \u001b[32m━━━━━━━━━━━━━━━━━━━━\u001b[0m\u001b[37m\u001b[0m \u001b[1m50s\u001b[0m 8ms/step - loss: 0.3776 - val_loss: 0.3640\n",
      "Epoch 7/10\n",
      "\u001b[1m5831/5831\u001b[0m \u001b[32m━━━━━━━━━━━━━━━━━━━━\u001b[0m\u001b[37m\u001b[0m \u001b[1m49s\u001b[0m 8ms/step - loss: 0.3633 - val_loss: 0.3500\n",
      "Epoch 8/10\n",
      "\u001b[1m5831/5831\u001b[0m \u001b[32m━━━━━━━━━━━━━━━━━━━━\u001b[0m\u001b[37m\u001b[0m \u001b[1m50s\u001b[0m 8ms/step - loss: 0.3472 - val_loss: 0.3408\n",
      "Epoch 9/10\n",
      "\u001b[1m5831/5831\u001b[0m \u001b[32m━━━━━━━━━━━━━━━━━━━━\u001b[0m\u001b[37m\u001b[0m \u001b[1m50s\u001b[0m 8ms/step - loss: 0.3351 - val_loss: 0.3311\n",
      "Epoch 10/10\n",
      "\u001b[1m5831/5831\u001b[0m \u001b[32m━━━━━━━━━━━━━━━━━━━━\u001b[0m\u001b[37m\u001b[0m \u001b[1m48s\u001b[0m 8ms/step - loss: 0.3169 - val_loss: 0.3236\n",
      "Hyperparameters: {'embedding_dim': 16, 'dense_units': 64, 'dropout_rate': 0.2}, Validation Loss: 0.32359039783477783\n",
      "Epoch 1/10\n",
      "\u001b[1m5831/5831\u001b[0m \u001b[32m━━━━━━━━━━━━━━━━━━━━\u001b[0m\u001b[37m\u001b[0m \u001b[1m55s\u001b[0m 9ms/step - loss: 1.6905 - val_loss: 0.5286\n",
      "Epoch 2/10\n",
      "\u001b[1m5831/5831\u001b[0m \u001b[32m━━━━━━━━━━━━━━━━━━━━\u001b[0m\u001b[37m\u001b[0m \u001b[1m49s\u001b[0m 8ms/step - loss: 0.6099 - val_loss: 0.4749\n",
      "Epoch 3/10\n",
      "\u001b[1m5831/5831\u001b[0m \u001b[32m━━━━━━━━━━━━━━━━━━━━\u001b[0m\u001b[37m\u001b[0m \u001b[1m49s\u001b[0m 8ms/step - loss: 0.5112 - val_loss: 0.4446\n",
      "Epoch 4/10\n",
      "\u001b[1m5831/5831\u001b[0m \u001b[32m━━━━━━━━━━━━━━━━━━━━\u001b[0m\u001b[37m\u001b[0m \u001b[1m49s\u001b[0m 8ms/step - loss: 0.4621 - val_loss: 0.4265\n",
      "Epoch 5/10\n",
      "\u001b[1m5831/5831\u001b[0m \u001b[32m━━━━━━━━━━━━━━━━━━━━\u001b[0m\u001b[37m\u001b[0m \u001b[1m49s\u001b[0m 8ms/step - loss: 0.4290 - val_loss: 0.3989\n",
      "Epoch 6/10\n",
      "\u001b[1m5831/5831\u001b[0m \u001b[32m━━━━━━━━━━━━━━━━━━━━\u001b[0m\u001b[37m\u001b[0m \u001b[1m49s\u001b[0m 8ms/step - loss: 0.4086 - val_loss: 0.3832\n",
      "Epoch 7/10\n",
      "\u001b[1m5831/5831\u001b[0m \u001b[32m━━━━━━━━━━━━━━━━━━━━\u001b[0m\u001b[37m\u001b[0m \u001b[1m49s\u001b[0m 8ms/step - loss: 0.3830 - val_loss: 0.3689\n",
      "Epoch 8/10\n",
      "\u001b[1m5831/5831\u001b[0m \u001b[32m━━━━━━━━━━━━━━━━━━━━\u001b[0m\u001b[37m\u001b[0m \u001b[1m49s\u001b[0m 8ms/step - loss: 0.3779 - val_loss: 0.3580\n",
      "Epoch 9/10\n",
      "\u001b[1m5831/5831\u001b[0m \u001b[32m━━━━━━━━━━━━━━━━━━━━\u001b[0m\u001b[37m\u001b[0m \u001b[1m49s\u001b[0m 8ms/step - loss: 0.3613 - val_loss: 0.3478\n",
      "Epoch 10/10\n",
      "\u001b[1m5831/5831\u001b[0m \u001b[32m━━━━━━━━━━━━━━━━━━━━\u001b[0m\u001b[37m\u001b[0m \u001b[1m49s\u001b[0m 8ms/step - loss: 0.3489 - val_loss: 0.3382\n",
      "Hyperparameters: {'embedding_dim': 16, 'dense_units': 64, 'dropout_rate': 0.2}, Validation Loss: 0.33823904395103455\n",
      "Epoch 1/10\n",
      "\u001b[1m5831/5831\u001b[0m \u001b[32m━━━━━━━━━━━━━━━━━━━━\u001b[0m\u001b[37m\u001b[0m \u001b[1m70s\u001b[0m 11ms/step - loss: 1.4144 - val_loss: 0.5285\n",
      "Epoch 2/10\n",
      "\u001b[1m5831/5831\u001b[0m \u001b[32m━━━━━━━━━━━━━━━━━━━━\u001b[0m\u001b[37m\u001b[0m \u001b[1m66s\u001b[0m 11ms/step - loss: 0.5475 - val_loss: 0.4734\n",
      "Epoch 3/10\n",
      "\u001b[1m5831/5831\u001b[0m \u001b[32m━━━━━━━━━━━━━━━━━━━━\u001b[0m\u001b[37m\u001b[0m \u001b[1m66s\u001b[0m 11ms/step - loss: 0.4915 - val_loss: 0.4442\n",
      "Epoch 4/10\n",
      "\u001b[1m5831/5831\u001b[0m \u001b[32m━━━━━━━━━━━━━━━━━━━━\u001b[0m\u001b[37m\u001b[0m \u001b[1m66s\u001b[0m 11ms/step - loss: 0.4443 - val_loss: 0.4152\n",
      "Epoch 5/10\n",
      "\u001b[1m5831/5831\u001b[0m \u001b[32m━━━━━━━━━━━━━━━━━━━━\u001b[0m\u001b[37m\u001b[0m \u001b[1m66s\u001b[0m 11ms/step - loss: 0.4041 - val_loss: 0.3786\n",
      "Epoch 6/10\n",
      "\u001b[1m5831/5831\u001b[0m \u001b[32m━━━━━━━━━━━━━━━━━━━━\u001b[0m\u001b[37m\u001b[0m \u001b[1m66s\u001b[0m 11ms/step - loss: 0.3722 - val_loss: 0.3491\n",
      "Epoch 7/10\n",
      "\u001b[1m5831/5831\u001b[0m \u001b[32m━━━━━━━━━━━━━━━━━━━━\u001b[0m\u001b[37m\u001b[0m \u001b[1m65s\u001b[0m 11ms/step - loss: 0.3412 - val_loss: 0.3316\n",
      "Epoch 8/10\n",
      "\u001b[1m5831/5831\u001b[0m \u001b[32m━━━━━━━━━━━━━━━━━━━━\u001b[0m\u001b[37m\u001b[0m \u001b[1m66s\u001b[0m 11ms/step - loss: 0.3199 - val_loss: 0.3192\n",
      "Epoch 9/10\n",
      "\u001b[1m5831/5831\u001b[0m \u001b[32m━━━━━━━━━━━━━━━━━━━━\u001b[0m\u001b[37m\u001b[0m \u001b[1m66s\u001b[0m 11ms/step - loss: 0.3003 - val_loss: 0.3037\n",
      "Epoch 10/10\n",
      "\u001b[1m5831/5831\u001b[0m \u001b[32m━━━━━━━━━━━━━━━━━━━━\u001b[0m\u001b[37m\u001b[0m \u001b[1m65s\u001b[0m 11ms/step - loss: 0.2886 - val_loss: 0.2973\n",
      "Hyperparameters: {'embedding_dim': 16, 'dense_units': 128, 'dropout_rate': 0.2}, Validation Loss: 0.29729342460632324\n",
      "Epoch 1/10\n",
      "\u001b[1m5831/5831\u001b[0m \u001b[32m━━━━━━━━━━━━━━━━━━━━\u001b[0m\u001b[37m\u001b[0m \u001b[1m67s\u001b[0m 11ms/step - loss: 1.4093 - val_loss: 0.5078\n",
      "Epoch 2/10\n",
      "\u001b[1m5831/5831\u001b[0m \u001b[32m━━━━━━━━━━━━━━━━━━━━\u001b[0m\u001b[37m\u001b[0m \u001b[1m80s\u001b[0m 11ms/step - loss: 0.5637 - val_loss: 0.4770\n",
      "Epoch 3/10\n",
      "\u001b[1m5831/5831\u001b[0m \u001b[32m━━━━━━━━━━━━━━━━━━━━\u001b[0m\u001b[37m\u001b[0m \u001b[1m38s\u001b[0m 6ms/step - loss: 0.4972 - val_loss: 0.4445\n",
      "Epoch 4/10\n",
      "\u001b[1m5831/5831\u001b[0m \u001b[32m━━━━━━━━━━━━━━━━━━━━\u001b[0m\u001b[37m\u001b[0m \u001b[1m36s\u001b[0m 6ms/step - loss: 0.4594 - val_loss: 0.4141\n",
      "Epoch 5/10\n",
      "\u001b[1m5831/5831\u001b[0m \u001b[32m━━━━━━━━━━━━━━━━━━━━\u001b[0m\u001b[37m\u001b[0m \u001b[1m34s\u001b[0m 6ms/step - loss: 0.4215 - val_loss: 0.3879\n",
      "Epoch 6/10\n",
      "\u001b[1m5831/5831\u001b[0m \u001b[32m━━━━━━━━━━━━━━━━━━━━\u001b[0m\u001b[37m\u001b[0m \u001b[1m34s\u001b[0m 6ms/step - loss: 0.3879 - val_loss: 0.3643\n",
      "Epoch 7/10\n",
      "\u001b[1m5831/5831\u001b[0m \u001b[32m━━━━━━━━━━━━━━━━━━━━\u001b[0m\u001b[37m\u001b[0m \u001b[1m35s\u001b[0m 6ms/step - loss: 0.3667 - val_loss: 0.3482\n",
      "Epoch 8/10\n",
      "\u001b[1m5831/5831\u001b[0m \u001b[32m━━━━━━━━━━━━━━━━━━━━\u001b[0m\u001b[37m\u001b[0m \u001b[1m36s\u001b[0m 6ms/step - loss: 0.3424 - val_loss: 0.3353\n",
      "Epoch 9/10\n",
      "\u001b[1m5831/5831\u001b[0m \u001b[32m━━━━━━━━━━━━━━━━━━━━\u001b[0m\u001b[37m\u001b[0m \u001b[1m36s\u001b[0m 6ms/step - loss: 0.3282 - val_loss: 0.3247\n",
      "Epoch 10/10\n",
      "\u001b[1m5831/5831\u001b[0m \u001b[32m━━━━━━━━━━━━━━━━━━━━\u001b[0m\u001b[37m\u001b[0m \u001b[1m36s\u001b[0m 6ms/step - loss: 0.3169 - val_loss: 0.3113\n",
      "Hyperparameters: {'embedding_dim': 16, 'dense_units': 128, 'dropout_rate': 0.2}, Validation Loss: 0.31129559874534607\n",
      "Epoch 1/10\n",
      "\u001b[1m5831/5831\u001b[0m \u001b[32m━━━━━━━━━━━━━━━━━━━━\u001b[0m\u001b[37m\u001b[0m \u001b[1m30s\u001b[0m 5ms/step - loss: 1.5816 - val_loss: 0.5300\n",
      "Epoch 2/10\n",
      "\u001b[1m5831/5831\u001b[0m \u001b[32m━━━━━━━━━━━━━━━━━━━━\u001b[0m\u001b[37m\u001b[0m \u001b[1m28s\u001b[0m 5ms/step - loss: 0.5848 - val_loss: 0.4762\n",
      "Epoch 3/10\n",
      "\u001b[1m5831/5831\u001b[0m \u001b[32m━━━━━━━━━━━━━━━━━━━━\u001b[0m\u001b[37m\u001b[0m \u001b[1m28s\u001b[0m 5ms/step - loss: 0.4959 - val_loss: 0.4298\n",
      "Epoch 4/10\n",
      "\u001b[1m5831/5831\u001b[0m \u001b[32m━━━━━━━━━━━━━━━━━━━━\u001b[0m\u001b[37m\u001b[0m \u001b[1m28s\u001b[0m 5ms/step - loss: 0.4406 - val_loss: 0.3932\n",
      "Epoch 5/10\n",
      "\u001b[1m5831/5831\u001b[0m \u001b[32m━━━━━━━━━━━━━━━━━━━━\u001b[0m\u001b[37m\u001b[0m \u001b[1m29s\u001b[0m 5ms/step - loss: 0.3906 - val_loss: 0.3685\n",
      "Epoch 6/10\n",
      "\u001b[1m5831/5831\u001b[0m \u001b[32m━━━━━━━━━━━━━━━━━━━━\u001b[0m\u001b[37m\u001b[0m \u001b[1m30s\u001b[0m 5ms/step - loss: 0.3573 - val_loss: 0.3368\n",
      "Epoch 7/10\n",
      "\u001b[1m5831/5831\u001b[0m \u001b[32m━━━━━━━━━━━━━━━━━━━━\u001b[0m\u001b[37m\u001b[0m \u001b[1m30s\u001b[0m 5ms/step - loss: 0.3324 - val_loss: 0.3251\n",
      "Epoch 8/10\n",
      "\u001b[1m5831/5831\u001b[0m \u001b[32m━━━━━━━━━━━━━━━━━━━━\u001b[0m\u001b[37m\u001b[0m \u001b[1m30s\u001b[0m 5ms/step - loss: 0.3196 - val_loss: 0.3126\n",
      "Epoch 9/10\n",
      "\u001b[1m5831/5831\u001b[0m \u001b[32m━━━━━━━━━━━━━━━━━━━━\u001b[0m\u001b[37m\u001b[0m \u001b[1m30s\u001b[0m 5ms/step - loss: 0.3057 - val_loss: 0.3047\n",
      "Epoch 10/10\n",
      "\u001b[1m5831/5831\u001b[0m \u001b[32m━━━━━━━━━━━━━━━━━━━━\u001b[0m\u001b[37m\u001b[0m \u001b[1m31s\u001b[0m 5ms/step - loss: 0.2943 - val_loss: 0.2940\n",
      "Hyperparameters: {'embedding_dim': 32, 'dense_units': 64, 'dropout_rate': 0.2}, Validation Loss: 0.29399022459983826\n",
      "Epoch 1/10\n",
      "\u001b[1m5831/5831\u001b[0m \u001b[32m━━━━━━━━━━━━━━━━━━━━\u001b[0m\u001b[37m\u001b[0m \u001b[1m32s\u001b[0m 5ms/step - loss: 1.7170 - val_loss: 0.5220\n",
      "Epoch 2/10\n",
      "\u001b[1m5831/5831\u001b[0m \u001b[32m━━━━━━━━━━━━━━━━━━━━\u001b[0m\u001b[37m\u001b[0m \u001b[1m32s\u001b[0m 5ms/step - loss: 0.6038 - val_loss: 0.4743\n",
      "Epoch 3/10\n",
      "\u001b[1m5831/5831\u001b[0m \u001b[32m━━━━━━━━━━━━━━━━━━━━\u001b[0m\u001b[37m\u001b[0m \u001b[1m32s\u001b[0m 5ms/step - loss: 0.4957 - val_loss: 0.4430\n",
      "Epoch 4/10\n",
      "\u001b[1m5831/5831\u001b[0m \u001b[32m━━━━━━━━━━━━━━━━━━━━\u001b[0m\u001b[37m\u001b[0m \u001b[1m33s\u001b[0m 6ms/step - loss: 0.4554 - val_loss: 0.4072\n",
      "Epoch 5/10\n",
      "\u001b[1m5831/5831\u001b[0m \u001b[32m━━━━━━━━━━━━━━━━━━━━\u001b[0m\u001b[37m\u001b[0m \u001b[1m33s\u001b[0m 6ms/step - loss: 0.4178 - val_loss: 0.3815\n",
      "Epoch 6/10\n",
      "\u001b[1m5831/5831\u001b[0m \u001b[32m━━━━━━━━━━━━━━━━━━━━\u001b[0m\u001b[37m\u001b[0m \u001b[1m33s\u001b[0m 6ms/step - loss: 0.3860 - val_loss: 0.3594\n",
      "Epoch 7/10\n",
      "\u001b[1m5831/5831\u001b[0m \u001b[32m━━━━━━━━━━━━━━━━━━━━\u001b[0m\u001b[37m\u001b[0m \u001b[1m32s\u001b[0m 6ms/step - loss: 0.3650 - val_loss: 0.3473\n",
      "Epoch 8/10\n",
      "\u001b[1m5831/5831\u001b[0m \u001b[32m━━━━━━━━━━━━━━━━━━━━\u001b[0m\u001b[37m\u001b[0m \u001b[1m32s\u001b[0m 5ms/step - loss: 0.3536 - val_loss: 0.3324\n",
      "Epoch 9/10\n",
      "\u001b[1m5831/5831\u001b[0m \u001b[32m━━━━━━━━━━━━━━━━━━━━\u001b[0m\u001b[37m\u001b[0m \u001b[1m33s\u001b[0m 6ms/step - loss: 0.3386 - val_loss: 0.3211\n",
      "Epoch 10/10\n",
      "\u001b[1m5831/5831\u001b[0m \u001b[32m━━━━━━━━━━━━━━━━━━━━\u001b[0m\u001b[37m\u001b[0m \u001b[1m33s\u001b[0m 6ms/step - loss: 0.3225 - val_loss: 0.3139\n",
      "Hyperparameters: {'embedding_dim': 32, 'dense_units': 64, 'dropout_rate': 0.2}, Validation Loss: 0.3138766586780548\n",
      "Epoch 1/10\n"
     ]
    },
    {
     "name": "stdout",
     "output_type": "stream",
     "text": [
      "\u001b[1m5831/5831\u001b[0m \u001b[32m━━━━━━━━━━━━━━━━━━━━\u001b[0m\u001b[37m\u001b[0m \u001b[1m47s\u001b[0m 8ms/step - loss: 1.3920 - val_loss: 0.4975\n",
      "Epoch 2/10\n",
      "\u001b[1m5831/5831\u001b[0m \u001b[32m━━━━━━━━━━━━━━━━━━━━\u001b[0m\u001b[37m\u001b[0m \u001b[1m44s\u001b[0m 8ms/step - loss: 0.5346 - val_loss: 0.4530\n",
      "Epoch 3/10\n",
      "\u001b[1m5831/5831\u001b[0m \u001b[32m━━━━━━━━━━━━━━━━━━━━\u001b[0m\u001b[37m\u001b[0m \u001b[1m44s\u001b[0m 8ms/step - loss: 0.4572 - val_loss: 0.3842\n",
      "Epoch 4/10\n",
      "\u001b[1m5831/5831\u001b[0m \u001b[32m━━━━━━━━━━━━━━━━━━━━\u001b[0m\u001b[37m\u001b[0m \u001b[1m44s\u001b[0m 7ms/step - loss: 0.3801 - val_loss: 0.3420\n",
      "Epoch 5/10\n",
      "\u001b[1m5831/5831\u001b[0m \u001b[32m━━━━━━━━━━━━━━━━━━━━\u001b[0m\u001b[37m\u001b[0m \u001b[1m45s\u001b[0m 8ms/step - loss: 0.3383 - val_loss: 0.3197\n",
      "Epoch 6/10\n",
      "\u001b[1m5831/5831\u001b[0m \u001b[32m━━━━━━━━━━━━━━━━━━━━\u001b[0m\u001b[37m\u001b[0m \u001b[1m45s\u001b[0m 8ms/step - loss: 0.3063 - val_loss: 0.2962\n",
      "Epoch 7/10\n",
      "\u001b[1m5831/5831\u001b[0m \u001b[32m━━━━━━━━━━━━━━━━━━━━\u001b[0m\u001b[37m\u001b[0m \u001b[1m43s\u001b[0m 7ms/step - loss: 0.2794 - val_loss: 0.2863\n",
      "Epoch 8/10\n",
      "\u001b[1m5831/5831\u001b[0m \u001b[32m━━━━━━━━━━━━━━━━━━━━\u001b[0m\u001b[37m\u001b[0m \u001b[1m43s\u001b[0m 7ms/step - loss: 0.2660 - val_loss: 0.2678\n",
      "Epoch 9/10\n",
      "\u001b[1m5831/5831\u001b[0m \u001b[32m━━━━━━━━━━━━━━━━━━━━\u001b[0m\u001b[37m\u001b[0m \u001b[1m45s\u001b[0m 8ms/step - loss: 0.2464 - val_loss: 0.2567\n",
      "Epoch 10/10\n",
      "\u001b[1m5831/5831\u001b[0m \u001b[32m━━━━━━━━━━━━━━━━━━━━\u001b[0m\u001b[37m\u001b[0m \u001b[1m45s\u001b[0m 8ms/step - loss: 0.2343 - val_loss: 0.2466\n",
      "Hyperparameters: {'embedding_dim': 32, 'dense_units': 128, 'dropout_rate': 0.2}, Validation Loss: 0.24659979343414307\n",
      "Epoch 1/10\n",
      "\u001b[1m5831/5831\u001b[0m \u001b[32m━━━━━━━━━━━━━━━━━━━━\u001b[0m\u001b[37m\u001b[0m \u001b[1m47s\u001b[0m 8ms/step - loss: 1.4540 - val_loss: 0.5082\n",
      "Epoch 2/10\n",
      "\u001b[1m5831/5831\u001b[0m \u001b[32m━━━━━━━━━━━━━━━━━━━━\u001b[0m\u001b[37m\u001b[0m \u001b[1m44s\u001b[0m 8ms/step - loss: 0.5613 - val_loss: 0.4608\n",
      "Epoch 3/10\n",
      "\u001b[1m5831/5831\u001b[0m \u001b[32m━━━━━━━━━━━━━━━━━━━━\u001b[0m\u001b[37m\u001b[0m \u001b[1m47s\u001b[0m 8ms/step - loss: 0.4812 - val_loss: 0.4083\n",
      "Epoch 4/10\n",
      "\u001b[1m5831/5831\u001b[0m \u001b[32m━━━━━━━━━━━━━━━━━━━━\u001b[0m\u001b[37m\u001b[0m \u001b[1m46s\u001b[0m 8ms/step - loss: 0.4161 - val_loss: 0.3624\n",
      "Epoch 5/10\n",
      "\u001b[1m5831/5831\u001b[0m \u001b[32m━━━━━━━━━━━━━━━━━━━━\u001b[0m\u001b[37m\u001b[0m \u001b[1m45s\u001b[0m 8ms/step - loss: 0.3706 - val_loss: 0.3405\n",
      "Epoch 6/10\n",
      "\u001b[1m5831/5831\u001b[0m \u001b[32m━━━━━━━━━━━━━━━━━━━━\u001b[0m\u001b[37m\u001b[0m \u001b[1m46s\u001b[0m 8ms/step - loss: 0.3346 - val_loss: 0.3211\n",
      "Epoch 7/10\n",
      "\u001b[1m5831/5831\u001b[0m \u001b[32m━━━━━━━━━━━━━━━━━━━━\u001b[0m\u001b[37m\u001b[0m \u001b[1m45s\u001b[0m 8ms/step - loss: 0.3146 - val_loss: 0.3090\n",
      "Epoch 8/10\n",
      "\u001b[1m5831/5831\u001b[0m \u001b[32m━━━━━━━━━━━━━━━━━━━━\u001b[0m\u001b[37m\u001b[0m \u001b[1m45s\u001b[0m 8ms/step - loss: 0.2976 - val_loss: 0.2943\n",
      "Epoch 9/10\n",
      "\u001b[1m5831/5831\u001b[0m \u001b[32m━━━━━━━━━━━━━━━━━━━━\u001b[0m\u001b[37m\u001b[0m \u001b[1m43s\u001b[0m 7ms/step - loss: 0.2853 - val_loss: 0.2812\n",
      "Epoch 10/10\n",
      "\u001b[1m5831/5831\u001b[0m \u001b[32m━━━━━━━━━━━━━━━━━━━━\u001b[0m\u001b[37m\u001b[0m \u001b[1m45s\u001b[0m 8ms/step - loss: 0.2700 - val_loss: 0.2717\n",
      "Hyperparameters: {'embedding_dim': 32, 'dense_units': 128, 'dropout_rate': 0.2}, Validation Loss: 0.27168306708335876\n",
      "Best Hyperparameters: {'embedding_dim': 32, 'dense_units': 128, 'dropout_rate': 0.2}, Best Validation Loss: 0.24659979343414307\n"
     ]
    }
   ],
   "source": [
    "from tensorflow.keras.callbacks import EarlyStopping\n",
    "\n",
    "# Define best_loss as infinity (float('inf')) to track the lowest validation loss observed during tuning.\n",
    "best_loss = float('inf')\n",
    "# Initialize an empty dictionary best_hyperparameters to store the best combination of hyperparameters discovered.\n",
    "best_hyperparameters = {}\n",
    "# Iterate over each combination of hyperparameters specified in hyperparameters['embedding_dim'], hyperparameters['dense_units'], and hyperparameters['dropout_rate'].\n",
    "for embedding_dim in hyperparameters['embedding_dim']:\n",
    "    for dense_units in hyperparameters['dense_units']:\n",
    "        for dropout_rate in hyperparameters['dropout_rate']:\n",
    "            model = create_model(embedding_dim=embedding_dim, dense_units=dense_units, dropout_rate=dropout_rate)\n",
    "            \n",
    "            history = model.fit(\n",
    "                [X_train_user, X_train_movie, tfidf_tags_train, tfidf_titles_train], \n",
    "                y_train,\n",
    "                validation_data=([X_test_user, X_test_movie, tfidf_tags_test, tfidf_titles_test], y_test),\n",
    "                epochs=hyperparameters['epochs'],\n",
    "                batch_size=hyperparameters['batch_size'],\n",
    "                callbacks=[EarlyStopping(monitor='val_loss', patience=3)],\n",
    "                verbose=1\n",
    "            )\n",
    "            # Track the validation loss (val_loss) after each epoch of training.\n",
    "            val_loss = history.history['val_loss'][-1]\n",
    "            # Update if the current val_loss is lower than best_loss, update best_loss to val_loss.\n",
    "            # Update best_hyperparameters with the current hyperparameter configuration (embedding_dim, dense_units, dropout_rate).\n",
    "            if val_loss < best_loss:\n",
    "                best_loss = val_loss\n",
    "                best_hyperparameters = {\n",
    "                    'embedding_dim': embedding_dim,\n",
    "                    'dense_units': dense_units,\n",
    "                    'dropout_rate': dropout_rate\n",
    "                }\n",
    "                \n",
    "            print(f\"Hyperparameters: {best_hyperparameters}, Validation Loss: {val_loss}\")\n",
    "\n",
    "print(f\"Best Hyperparameters: {best_hyperparameters}, Best Validation Loss: {best_loss}\")"
   ]
  },
  {
   "cell_type": "markdown",
   "id": "94a19377",
   "metadata": {},
   "source": [
    "###### The above iterative process systematically explores different combinations of hyperparameters to identify those that yield the lowest validation loss, thereby optimizing the model's performance for recommendation tasks.\n",
    "\n",
    "\n",
    "\n",
    "#### Creating the Best Model with Optimal Hyperparameters:\n",
    "With the best hyperparameters identified (embedding_dim: 32, dense_units: 128, dropout_rate: 0.2), we can now create a new model using these parameters and call it best_model."
   ]
  },
  {
   "cell_type": "code",
   "execution_count": 12,
   "id": "ca9cef72",
   "metadata": {},
   "outputs": [
    {
     "name": "stdout",
     "output_type": "stream",
     "text": [
      "Epoch 1/10\n",
      "\u001b[1m5831/5831\u001b[0m \u001b[32m━━━━━━━━━━━━━━━━━━━━\u001b[0m\u001b[37m\u001b[0m \u001b[1m49s\u001b[0m 8ms/step - loss: 1.3819 - val_loss: 0.4988\n",
      "Epoch 2/10\n",
      "\u001b[1m5831/5831\u001b[0m \u001b[32m━━━━━━━━━━━━━━━━━━━━\u001b[0m\u001b[37m\u001b[0m \u001b[1m47s\u001b[0m 8ms/step - loss: 0.5299 - val_loss: 0.4491\n",
      "Epoch 3/10\n",
      "\u001b[1m5831/5831\u001b[0m \u001b[32m━━━━━━━━━━━━━━━━━━━━\u001b[0m\u001b[37m\u001b[0m \u001b[1m47s\u001b[0m 8ms/step - loss: 0.4524 - val_loss: 0.3831\n",
      "Epoch 4/10\n",
      "\u001b[1m5831/5831\u001b[0m \u001b[32m━━━━━━━━━━━━━━━━━━━━\u001b[0m\u001b[37m\u001b[0m \u001b[1m46s\u001b[0m 8ms/step - loss: 0.3879 - val_loss: 0.3432\n",
      "Epoch 5/10\n",
      "\u001b[1m5831/5831\u001b[0m \u001b[32m━━━━━━━━━━━━━━━━━━━━\u001b[0m\u001b[37m\u001b[0m \u001b[1m47s\u001b[0m 8ms/step - loss: 0.3423 - val_loss: 0.3206\n",
      "Epoch 6/10\n",
      "\u001b[1m5831/5831\u001b[0m \u001b[32m━━━━━━━━━━━━━━━━━━━━\u001b[0m\u001b[37m\u001b[0m \u001b[1m46s\u001b[0m 8ms/step - loss: 0.3126 - val_loss: 0.2998\n",
      "Epoch 7/10\n",
      "\u001b[1m5831/5831\u001b[0m \u001b[32m━━━━━━━━━━━━━━━━━━━━\u001b[0m\u001b[37m\u001b[0m \u001b[1m46s\u001b[0m 8ms/step - loss: 0.2893 - val_loss: 0.2888\n",
      "Epoch 8/10\n",
      "\u001b[1m5831/5831\u001b[0m \u001b[32m━━━━━━━━━━━━━━━━━━━━\u001b[0m\u001b[37m\u001b[0m \u001b[1m46s\u001b[0m 8ms/step - loss: 0.2731 - val_loss: 0.2783\n",
      "Epoch 9/10\n",
      "\u001b[1m5831/5831\u001b[0m \u001b[32m━━━━━━━━━━━━━━━━━━━━\u001b[0m\u001b[37m\u001b[0m \u001b[1m45s\u001b[0m 8ms/step - loss: 0.2536 - val_loss: 0.2672\n",
      "Epoch 10/10\n",
      "\u001b[1m5831/5831\u001b[0m \u001b[32m━━━━━━━━━━━━━━━━━━━━\u001b[0m\u001b[37m\u001b[0m \u001b[1m46s\u001b[0m 8ms/step - loss: 0.2443 - val_loss: 0.2574\n"
     ]
    }
   ],
   "source": [
    "# Create the best model with identified hyperparameters\n",
    "best_model0 = create_model(embedding_dim=32, dense_units=128, dropout_rate=0.2)\n",
    "\n",
    "# Train the best model on the entire training dataset\n",
    "history = best_model0.fit(\n",
    "    [X_train_user, X_train_movie, tfidf_tags_train, tfidf_titles_train], \n",
    "    y_train,\n",
    "    epochs=10,  # Adjust based on convergence\n",
    "    batch_size=32,\n",
    "    callbacks=[EarlyStopping(monitor='val_loss', patience=3)],\n",
    "    validation_data=([X_test_user, X_test_movie, tfidf_tags_test, tfidf_titles_test], y_test),\n",
    "    verbose=1\n",
    ")"
   ]
  },
  {
   "cell_type": "markdown",
   "id": "0ef76338",
   "metadata": {},
   "source": [
    "#### The training log indicates the loss and validation loss over ten epochs of training:\n",
    "\n",
    "Training Loss: Decreases consistently from 0.2609 to 0.2003.\n",
    "Validation Loss: Decreases from 0.2757 to 0.2351."
   ]
  },
  {
   "cell_type": "code",
   "execution_count": 13,
   "id": "1f14607f",
   "metadata": {},
   "outputs": [
    {
     "name": "stdout",
     "output_type": "stream",
     "text": [
      "\u001b[1m1458/1458\u001b[0m \u001b[32m━━━━━━━━━━━━━━━━━━━━\u001b[0m\u001b[37m\u001b[0m \u001b[1m5s\u001b[0m 3ms/step - loss: 0.2543\n",
      "Test Loss: 0.2574302852153778\n"
     ]
    }
   ],
   "source": [
    "test_loss = best_model0.evaluate([X_test_user, X_test_movie, tfidf_tags_test, tfidf_titles_test], y_test)\n",
    "print(f\"Test Loss: {test_loss}\")\n"
   ]
  },
  {
   "cell_type": "markdown",
   "id": "2d4986ac",
   "metadata": {},
   "source": [
    "###### The test evaluation log shows that when the best model was tested on the test dataset, it resulted in a final test loss of approximately 16.54. This significantly higher loss value compared to the training and validation losses indicates a problem with the model's performance on unseen data."
   ]
  },
  {
   "cell_type": "code",
   "execution_count": 14,
   "id": "277777f9",
   "metadata": {},
   "outputs": [
    {
     "data": {
      "image/png": "[encoded data removed]",
      "text/plain": [
       "<Figure size 640x480 with 1 Axes>"
      ]
     },
     "metadata": {},
     "output_type": "display_data"
    }
   ],
   "source": [
    "# Plot training history\n",
    "plt.plot(history.history['loss'], label='Training Loss')\n",
    "plt.plot(history.history['val_loss'], label='Validation Loss')\n",
    "plt.xlabel('Epochs')\n",
    "plt.ylabel('Loss')\n",
    "plt.legend()\n",
    "plt.show()\n"
   ]
  },
  {
   "cell_type": "markdown",
   "id": "804b37c7",
   "metadata": {},
   "source": [
    "###### Next I will adjust the hyperparameter on the best model, specifically I will reduce dense_unites from 128 to 64."
   ]
  },
  {
   "cell_type": "code",
   "execution_count": 15,
   "id": "e7b93e05",
   "metadata": {},
   "outputs": [
    {
     "name": "stdout",
     "output_type": "stream",
     "text": [
      "Epoch 1/10\n",
      "\u001b[1m5831/5831\u001b[0m \u001b[32m━━━━━━━━━━━━━━━━━━━━\u001b[0m\u001b[37m\u001b[0m \u001b[1m35s\u001b[0m 6ms/step - loss: 1.4736 - val_loss: 0.5052\n",
      "Epoch 2/10\n",
      "\u001b[1m5831/5831\u001b[0m \u001b[32m━━━━━━━━━━━━━━━━━━━━\u001b[0m\u001b[37m\u001b[0m \u001b[1m33s\u001b[0m 6ms/step - loss: 0.5633 - val_loss: 0.4634\n",
      "Epoch 3/10\n",
      "\u001b[1m5831/5831\u001b[0m \u001b[32m━━━━━━━━━━━━━━━━━━━━\u001b[0m\u001b[37m\u001b[0m \u001b[1m33s\u001b[0m 6ms/step - loss: 0.4868 - val_loss: 0.4203\n",
      "Epoch 4/10\n",
      "\u001b[1m5831/5831\u001b[0m \u001b[32m━━━━━━━━━━━━━━━━━━━━\u001b[0m\u001b[37m\u001b[0m \u001b[1m33s\u001b[0m 6ms/step - loss: 0.4271 - val_loss: 0.3914\n",
      "Epoch 5/10\n",
      "\u001b[1m5831/5831\u001b[0m \u001b[32m━━━━━━━━━━━━━━━━━━━━\u001b[0m\u001b[37m\u001b[0m \u001b[1m33s\u001b[0m 6ms/step - loss: 0.3956 - val_loss: 0.3653\n",
      "Epoch 6/10\n",
      "\u001b[1m5831/5831\u001b[0m \u001b[32m━━━━━━━━━━━━━━━━━━━━\u001b[0m\u001b[37m\u001b[0m \u001b[1m33s\u001b[0m 6ms/step - loss: 0.3657 - val_loss: 0.3486\n",
      "Epoch 7/10\n",
      "\u001b[1m5831/5831\u001b[0m \u001b[32m━━━━━━━━━━━━━━━━━━━━\u001b[0m\u001b[37m\u001b[0m \u001b[1m33s\u001b[0m 6ms/step - loss: 0.3462 - val_loss: 0.3417\n",
      "Epoch 8/10\n",
      "\u001b[1m5831/5831\u001b[0m \u001b[32m━━━━━━━━━━━━━━━━━━━━\u001b[0m\u001b[37m\u001b[0m \u001b[1m33s\u001b[0m 6ms/step - loss: 0.3296 - val_loss: 0.3216\n",
      "Epoch 9/10\n",
      "\u001b[1m5831/5831\u001b[0m \u001b[32m━━━━━━━━━━━━━━━━━━━━\u001b[0m\u001b[37m\u001b[0m \u001b[1m33s\u001b[0m 6ms/step - loss: 0.3165 - val_loss: 0.3127\n",
      "Epoch 10/10\n",
      "\u001b[1m5831/5831\u001b[0m \u001b[32m━━━━━━━━━━━━━━━━━━━━\u001b[0m\u001b[37m\u001b[0m \u001b[1m34s\u001b[0m 6ms/step - loss: 0.3104 - val_loss: 0.3047\n"
     ]
    }
   ],
   "source": [
    "# Create the best model with identified hyperparameters\n",
    "best_model = create_model(embedding_dim=32, dense_units=64, dropout_rate=0.2)\n",
    "\n",
    "# Train the best model on the entire training dataset\n",
    "history = best_model.fit(\n",
    "    [X_train_user, X_train_movie, tfidf_tags_train, tfidf_titles_train], \n",
    "    y_train,\n",
    "    epochs=10,  # Adjust based on convergence\n",
    "    batch_size=32,\n",
    "    callbacks=[EarlyStopping(monitor='val_loss', patience=3)],\n",
    "    validation_data=([X_test_user, X_test_movie, tfidf_tags_test, tfidf_titles_test], y_test),\n",
    "    verbose=1\n",
    ")"
   ]
  },
  {
   "cell_type": "code",
   "execution_count": 16,
   "id": "0f2d021d",
   "metadata": {},
   "outputs": [
    {
     "name": "stdout",
     "output_type": "stream",
     "text": [
      "\u001b[1m1458/1458\u001b[0m \u001b[32m━━━━━━━━━━━━━━━━━━━━\u001b[0m\u001b[37m\u001b[0m \u001b[1m4s\u001b[0m 3ms/step - loss: 0.3057\n",
      "Test Loss: 0.3046850860118866\n"
     ]
    }
   ],
   "source": [
    "test_loss = best_model.evaluate([X_test_user, X_test_movie, tfidf_tags_test, tfidf_titles_test], y_test)\n",
    "print(f\"Test Loss: {test_loss}\")"
   ]
  },
  {
   "cell_type": "markdown",
   "id": "4506a5cb",
   "metadata": {},
   "source": [
    "The test evaluation log indicates that the best model was tested on the test dataset, resulting in a final test loss of approximately 0.2351.\n",
    "\n",
    "Test Loss: The reported test loss of 0.2554 is a measure of the model's performance on unseen data. This loss value provides an indication of how well the model generalizes to new data, separate from the training and validation datasets.\n",
    "\n",
    "The evaluation indicates that the best model maintains good performance on the test set, further confirming that it generalizes well and is not overfitting."
   ]
  },
  {
   "cell_type": "code",
   "execution_count": 17,
   "id": "cf8c0b2a",
   "metadata": {
    "scrolled": false
   },
   "outputs": [
    {
     "data": {
      "image/png": "[encoded data removed]",
      "text/plain": [
       "<Figure size 640x480 with 1 Axes>"
      ]
     },
     "metadata": {},
     "output_type": "display_data"
    }
   ],
   "source": [
    "# Plot training history\n",
    "plt.plot(history.history['loss'], label='Training Loss')\n",
    "plt.plot(history.history['val_loss'], label='Validation Loss')\n",
    "plt.xlabel('Epochs')\n",
    "plt.ylabel('Loss')\n",
    "plt.legend()\n",
    "plt.show()"
   ]
  },
  {
   "cell_type": "markdown",
   "id": "d159fc21",
   "metadata": {},
   "source": [
    "###### If we wanted to evaluate the model's performance in a binary classification setting (predicting if a rating is above a certain threshold), we can convert the regression output to binary labels and then calculate the accuracy and confusion matrix."
   ]
  },
  {
   "cell_type": "code",
   "execution_count": 18,
   "id": "3f03849e",
   "metadata": {},
   "outputs": [
    {
     "name": "stdout",
     "output_type": "stream",
     "text": [
      "\u001b[1m1458/1458\u001b[0m \u001b[32m━━━━━━━━━━━━━━━━━━━━\u001b[0m\u001b[37m\u001b[0m \u001b[1m7s\u001b[0m 4ms/step\n",
      "Accuracy: 0.8399974272666852\n",
      "Confusion Matrix:\n",
      "[[ 8738  5878]\n",
      " [ 1585 30442]]\n"
     ]
    },
    {
     "data": {
      "image/png": "[encoded data removed]",
      "text/plain": [
       "<Figure size 800x600 with 2 Axes>"
      ]
     },
     "metadata": {},
     "output_type": "display_data"
    }
   ],
   "source": [
    "from sklearn.metrics import accuracy_score, confusion_matrix\n",
    "\n",
    "# Define a threshold\n",
    "threshold = 3.5\n",
    "\n",
    "# Predict the ratings\n",
    "y_pred = best_model.predict([X_test_user, X_test_movie, tfidf_tags_test, tfidf_titles_test])\n",
    "\n",
    "# Convert predictions to binary labels\n",
    "y_pred_binary = (y_pred > threshold).astype(int)\n",
    "\n",
    "# Convert actual ratings to binary labels\n",
    "y_test_binary = (y_test > threshold).astype(int)\n",
    "\n",
    "# Calculate accuracy\n",
    "accuracy = accuracy_score(y_test_binary, y_pred_binary)\n",
    "print(f'Accuracy: {accuracy}')\n",
    "\n",
    "# Generate confusion matrix\n",
    "conf_matrix = confusion_matrix(y_test_binary, y_pred_binary)\n",
    "print(f'Confusion Matrix:\\n{conf_matrix}')\n",
    "\n",
    "# Plot confusion matrix\n",
    "plt.figure(figsize=(8, 6))\n",
    "sns.heatmap(conf_matrix, annot=True, fmt='d', cmap='Blues', xticklabels=['Predicted 0', 'Predicted 1'], yticklabels=['Actual 0', 'Actual 1'])\n",
    "plt.xlabel('Predicted Label')\n",
    "plt.ylabel('True Label')\n",
    "plt.title('Confusion Matrix')\n",
    "plt.show()"
   ]
  },
  {
   "cell_type": "markdown",
   "id": "83c8730a",
   "metadata": {},
   "source": [
    "###### Neural Collaborative Filtering (NCF) is a regression model, to evaluate it we typically use metrics such as Mean Absolute Error (MAE) or Mean Squared Error (MSE)."
   ]
  },
  {
   "cell_type": "code",
   "execution_count": 21,
   "id": "82610e5c",
   "metadata": {},
   "outputs": [
    {
     "name": "stdout",
     "output_type": "stream",
     "text": [
      "Mean Squared Error: 0.30468502440435424\n",
      "Root Mean Squared Error: 0.551982811692859\n",
      "Mean Absolute Error: 0.36389220836367386\n"
     ]
    }
   ],
   "source": [
    "from sklearn.metrics import mean_squared_error, mean_absolute_error\n",
    "\n",
    "# Calculate Mean Squared Error\n",
    "mse = mean_squared_error(y_test, predictions)\n",
    "print(\"Mean Squared Error:\", mse)\n",
    "\n",
    "# Calculate Root Mean Squared Error\n",
    "rmse = np.sqrt(mse)\n",
    "print(\"Root Mean Squared Error:\", rmse)\n",
    "\n",
    "# Calculate Mean Absolute Error\n",
    "mae = mean_absolute_error(y_test, predictions)\n",
    "print(\"Mean Absolute Error:\", mae)"
   ]
  },
  {
   "cell_type": "code",
   "execution_count": 27,
   "id": "e745da27",
   "metadata": {},
   "outputs": [
    {
     "name": "stdout",
     "output_type": "stream",
     "text": [
      "\u001b[1m1/1\u001b[0m \u001b[32m━━━━━━━━━━━━━━━━━━━━\u001b[0m\u001b[37m\u001b[0m \u001b[1m0s\u001b[0m 66ms/step\n",
      "Test case 1:\n",
      "User ID: 177, Movie ID: 77\n",
      "Predicted Rating: 4.5964\n",
      "Actual Rating: 4.5000\n",
      "------------------------------\n",
      "\u001b[1m1/1\u001b[0m \u001b[32m━━━━━━━━━━━━━━━━━━━━\u001b[0m\u001b[37m\u001b[0m \u001b[1m0s\u001b[0m 87ms/step\n",
      "Test case 11:\n",
      "User ID: 208, Movie ID: 613\n",
      "Predicted Rating: 4.4937\n",
      "Actual Rating: 4.0000\n",
      "------------------------------\n",
      "\u001b[1m1/1\u001b[0m \u001b[32m━━━━━━━━━━━━━━━━━━━━\u001b[0m\u001b[37m\u001b[0m \u001b[1m0s\u001b[0m 63ms/step\n",
      "Test case 21:\n",
      "User ID: 16, Movie ID: 799\n",
      "Predicted Rating: 4.3422\n",
      "Actual Rating: 4.0000\n",
      "------------------------------\n"
     ]
    }
   ],
   "source": [
    "# Adding test cases for individual predictions\n",
    "def print_individual_predictions(model, user_ids, movie_ids, tags, titles, actual_ratings, sample_indices):\n",
    "    for idx in sample_indices:\n",
    "        user_id = np.array([user_ids[idx]])\n",
    "        movie_id = np.array([movie_ids[idx]])\n",
    "        tag = np.array([tags[idx]])\n",
    "        title = np.array([titles[idx]])\n",
    "        \n",
    "        prediction = model.predict([user_id, movie_id, tag, title])\n",
    "        actual_rating = actual_ratings.iloc[idx]  # Use iloc to access by integer location\n",
    "        \n",
    "        print(f\"Test case {idx + 1}:\")\n",
    "        print(f\"User ID: {user_id[0]}, Movie ID: {movie_id[0]}\")\n",
    "        print(f\"Predicted Rating: {prediction[0][0]:.4f}\")\n",
    "        print(f\"Actual Rating: {actual_rating:.4f}\")\n",
    "        print(\"-\" * 30)\n",
    "\n",
    "# Specify the indices of test cases you want to check individually\n",
    "sample_indices = [0, 10, 20]  # Change these indices as needed\n",
    "\n",
    "# Print individual predictions\n",
    "print_individual_predictions(best_model, X_test_user, X_test_movie, tfidf_tags_test_dense, tfidf_titles_test_dense, y_test, sample_indices)"
   ]
  },
  {
   "cell_type": "markdown",
   "id": "33f01cfa",
   "metadata": {},
   "source": [
    "The output shows the model's predictions for individual test cases, comparing the predicted ratings with the actual ratings.\n",
    "\n",
    "Here's a breakdown to test case number one:\n",
    "Test Case 1:\n",
    "User ID: 177 \n",
    "Movie ID: 77\n",
    "Predicted Rating: 4.5964 The predicted ratings are generated by the trained NCF (Neural Collaborative Filtering) model.\n",
    "Actual Rating: 4.5000 The true ratings given by users.\n",
    "\n",
    "The predicted ratings are close to the actual ratings, indicating that the model is performing reasonably well on these test cases."
   ]
  },
  {
   "cell_type": "markdown",
   "id": "94a9e61a",
   "metadata": {},
   "source": [
    "## Summary of Building and Evaluating the Recommendation System\n",
    "\n",
    "#### Data Preprocessing:\n",
    "Applied TF-IDF vectorization to the 'tag' and 'title' fields to transform text data into numerical vectors suitable for machine learning.\n",
    "Split the data into training and test sets, then fitted and transformed the text data into TF-IDF vectors for both sets.\n",
    "\n",
    "#### Model Creation:\n",
    "Defined a Neural Collaborative Filtering (NCF) model combining user and movie embeddings with TF-IDF vectors for tags and titles.\n",
    "The model architecture included embedding layers for users and movies, concatenated with TF-IDF vectors, followed by dense layers and dropout for regularization.\n",
    "\n",
    "#### Hyperparameter Tuning:\n",
    "Experimented with different hyperparameter configurations (embedding dimension, dense units, dropout rate) to find the best combination that minimizes validation loss.\n",
    "Used early stopping to monitor validation loss and prevent overfitting during training.\n",
    "\n",
    "#### Model Evaluation:\n",
    "Evaluated the best model on the test dataset to assess its performance on unseen data.\n",
    "The initial evaluation showed a significantly higher test loss (16.54) compared to the validation loss, indicating overfitting.\n",
    "\n",
    "#### Training the Best Model:\n",
    "Created and trained the best model using the optimal hyperparameters: embedding_dim=32, dense_units=64, dropout_rate=0.2.\n",
    "Achieved a final validation loss of around 0.2351, indicating good performance during training.\n",
    "\n",
    "## Conclusion\n",
    "The process of building, tuning, and evaluating the recommendation system highlighted the importance of balancing model complexity and generalization. While the model performed well on the training and validation data, the high test loss emphasized the need for further adjustments to improve its performance on new data."
   ]
  }
 ],
 "metadata": {
  "kernelspec": {
   "display_name": "Python 3 (ipykernel)",
   "language": "python",
   "name": "python3"
  },
  "language_info": {
   "codemirror_mode": {
    "name": "ipython",
    "version": 3
   },
   "file_extension": ".py",
   "mimetype": "text/x-python",
   "name": "python",
   "nbconvert_exporter": "python",
   "pygments_lexer": "ipython3",
   "version": "3.11.5"
  }
 },
 "nbformat": 4,
 "nbformat_minor": 5
}
